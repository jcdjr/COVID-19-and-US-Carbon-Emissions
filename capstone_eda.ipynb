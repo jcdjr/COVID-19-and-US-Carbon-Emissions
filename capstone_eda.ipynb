{
 "cells": [
  {
   "cell_type": "code",
   "execution_count": 129,
   "metadata": {},
   "outputs": [],
   "source": [
    "import pandas as pd\n",
    "import geopandas as gpd\n",
    "from collections import Counter\n",
    "import matplotlib.pyplot as plt\n",
    "\n",
    "%matplotlib inline"
   ]
  },
  {
   "cell_type": "markdown",
   "metadata": {},
   "source": [
    "## 1. Reading in 'Energy Consumption' Data"
   ]
  },
  {
   "cell_type": "markdown",
   "metadata": {},
   "source": [
    "#### --COAL"
   ]
  },
  {
   "cell_type": "code",
   "execution_count": 130,
   "metadata": {},
   "outputs": [
    {
     "data": {
      "text/html": [
       "<div>\n",
       "<style scoped>\n",
       "    .dataframe tbody tr th:only-of-type {\n",
       "        vertical-align: middle;\n",
       "    }\n",
       "\n",
       "    .dataframe tbody tr th {\n",
       "        vertical-align: top;\n",
       "    }\n",
       "\n",
       "    .dataframe thead th {\n",
       "        text-align: right;\n",
       "    }\n",
       "</style>\n",
       "<table border=\"1\" class=\"dataframe\">\n",
       "  <thead>\n",
       "    <tr style=\"text-align: right;\">\n",
       "      <th></th>\n",
       "      <th>year</th>\n",
       "      <th>month</th>\n",
       "      <th>type</th>\n",
       "      <th>all_sectors</th>\n",
       "      <th>electric</th>\n",
       "      <th>ind_power_producers</th>\n",
       "      <th>commercial_sector</th>\n",
       "      <th>industrial_sector</th>\n",
       "    </tr>\n",
       "  </thead>\n",
       "  <tbody>\n",
       "    <tr>\n",
       "      <th>0</th>\n",
       "      <td>2019</td>\n",
       "      <td>January</td>\n",
       "      <td>coal</td>\n",
       "      <td>55834</td>\n",
       "      <td>41306</td>\n",
       "      <td>14305</td>\n",
       "      <td>8</td>\n",
       "      <td>214</td>\n",
       "    </tr>\n",
       "    <tr>\n",
       "      <th>1</th>\n",
       "      <td>2019</td>\n",
       "      <td>February</td>\n",
       "      <td>coal</td>\n",
       "      <td>45025</td>\n",
       "      <td>33349</td>\n",
       "      <td>11471</td>\n",
       "      <td>8</td>\n",
       "      <td>197</td>\n",
       "    </tr>\n",
       "    <tr>\n",
       "      <th>2</th>\n",
       "      <td>2019</td>\n",
       "      <td>March</td>\n",
       "      <td>coal</td>\n",
       "      <td>43974</td>\n",
       "      <td>31664</td>\n",
       "      <td>12133</td>\n",
       "      <td>9</td>\n",
       "      <td>168</td>\n",
       "    </tr>\n",
       "    <tr>\n",
       "      <th>3</th>\n",
       "      <td>2019</td>\n",
       "      <td>April</td>\n",
       "      <td>coal</td>\n",
       "      <td>33353</td>\n",
       "      <td>24495</td>\n",
       "      <td>8691</td>\n",
       "      <td>6</td>\n",
       "      <td>161</td>\n",
       "    </tr>\n",
       "    <tr>\n",
       "      <th>4</th>\n",
       "      <td>2019</td>\n",
       "      <td>May</td>\n",
       "      <td>coal</td>\n",
       "      <td>40015</td>\n",
       "      <td>30285</td>\n",
       "      <td>9547</td>\n",
       "      <td>6</td>\n",
       "      <td>178</td>\n",
       "    </tr>\n",
       "  </tbody>\n",
       "</table>\n",
       "</div>"
      ],
      "text/plain": [
       "   year     month  type  all_sectors  electric  ind_power_producers  \\\n",
       "0  2019   January  coal        55834     41306                14305   \n",
       "1  2019  February  coal        45025     33349                11471   \n",
       "2  2019     March  coal        43974     31664                12133   \n",
       "3  2019     April  coal        33353     24495                 8691   \n",
       "4  2019       May  coal        40015     30285                 9547   \n",
       "\n",
       "   commercial_sector  industrial_sector  \n",
       "0                  8                214  \n",
       "1                  8                197  \n",
       "2                  9                168  \n",
       "3                  6                161  \n",
       "4                  6                178  "
      ]
     },
     "execution_count": 130,
     "metadata": {},
     "output_type": "execute_result"
    }
   ],
   "source": [
    "coal = pd.read_csv('data/energy_consumption/coal_clean.csv')\n",
    "coal.head()"
   ]
  },
  {
   "cell_type": "code",
   "execution_count": 131,
   "metadata": {},
   "outputs": [
    {
     "data": {
      "text/html": [
       "<div>\n",
       "<style scoped>\n",
       "    .dataframe tbody tr th:only-of-type {\n",
       "        vertical-align: middle;\n",
       "    }\n",
       "\n",
       "    .dataframe tbody tr th {\n",
       "        vertical-align: top;\n",
       "    }\n",
       "\n",
       "    .dataframe thead th {\n",
       "        text-align: right;\n",
       "    }\n",
       "</style>\n",
       "<table border=\"1\" class=\"dataframe\">\n",
       "  <thead>\n",
       "    <tr style=\"text-align: right;\">\n",
       "      <th></th>\n",
       "      <th>year</th>\n",
       "      <th>month</th>\n",
       "      <th>type</th>\n",
       "      <th>all_sectors</th>\n",
       "      <th>electric</th>\n",
       "      <th>ind_power_producers</th>\n",
       "      <th>commercial_sector</th>\n",
       "      <th>industrial_sector</th>\n",
       "    </tr>\n",
       "  </thead>\n",
       "  <tbody>\n",
       "    <tr>\n",
       "      <th>16</th>\n",
       "      <td>2020</td>\n",
       "      <td>May</td>\n",
       "      <td>coal</td>\n",
       "      <td>26849</td>\n",
       "      <td>19805</td>\n",
       "      <td>6898</td>\n",
       "      <td>4</td>\n",
       "      <td>142</td>\n",
       "    </tr>\n",
       "    <tr>\n",
       "      <th>17</th>\n",
       "      <td>2020</td>\n",
       "      <td>June</td>\n",
       "      <td>coal</td>\n",
       "      <td>36637</td>\n",
       "      <td>27742</td>\n",
       "      <td>8759</td>\n",
       "      <td>5</td>\n",
       "      <td>130</td>\n",
       "    </tr>\n",
       "    <tr>\n",
       "      <th>18</th>\n",
       "      <td>2020</td>\n",
       "      <td>July</td>\n",
       "      <td>coal</td>\n",
       "      <td>49838</td>\n",
       "      <td>38279</td>\n",
       "      <td>11411</td>\n",
       "      <td>5</td>\n",
       "      <td>143</td>\n",
       "    </tr>\n",
       "    <tr>\n",
       "      <th>19</th>\n",
       "      <td>2020</td>\n",
       "      <td>August</td>\n",
       "      <td>coal</td>\n",
       "      <td>50430</td>\n",
       "      <td>38888</td>\n",
       "      <td>11398</td>\n",
       "      <td>4</td>\n",
       "      <td>140</td>\n",
       "    </tr>\n",
       "    <tr>\n",
       "      <th>20</th>\n",
       "      <td>2020</td>\n",
       "      <td>Sept</td>\n",
       "      <td>coal</td>\n",
       "      <td>38701</td>\n",
       "      <td>29619</td>\n",
       "      <td>8927</td>\n",
       "      <td>7</td>\n",
       "      <td>149</td>\n",
       "    </tr>\n",
       "  </tbody>\n",
       "</table>\n",
       "</div>"
      ],
      "text/plain": [
       "    year   month  type  all_sectors  electric  ind_power_producers  \\\n",
       "16  2020     May  coal        26849     19805                 6898   \n",
       "17  2020    June  coal        36637     27742                 8759   \n",
       "18  2020    July  coal        49838     38279                11411   \n",
       "19  2020  August  coal        50430     38888                11398   \n",
       "20  2020    Sept  coal        38701     29619                 8927   \n",
       "\n",
       "    commercial_sector  industrial_sector  \n",
       "16                  4                142  \n",
       "17                  5                130  \n",
       "18                  5                143  \n",
       "19                  4                140  \n",
       "20                  7                149  "
      ]
     },
     "execution_count": 131,
     "metadata": {},
     "output_type": "execute_result"
    }
   ],
   "source": [
    "coal.tail()"
   ]
  },
  {
   "cell_type": "code",
   "execution_count": 132,
   "metadata": {},
   "outputs": [
    {
     "name": "stdout",
     "output_type": "stream",
     "text": [
      "<class 'pandas.core.frame.DataFrame'>\n",
      "RangeIndex: 21 entries, 0 to 20\n",
      "Data columns (total 8 columns):\n",
      " #   Column               Non-Null Count  Dtype \n",
      "---  ------               --------------  ----- \n",
      " 0   year                 21 non-null     int64 \n",
      " 1   month                21 non-null     object\n",
      " 2   type                 21 non-null     object\n",
      " 3   all_sectors          21 non-null     int64 \n",
      " 4   electric             21 non-null     int64 \n",
      " 5   ind_power_producers  21 non-null     int64 \n",
      " 6   commercial_sector    21 non-null     int64 \n",
      " 7   industrial_sector    21 non-null     int64 \n",
      "dtypes: int64(6), object(2)\n",
      "memory usage: 1.4+ KB\n"
     ]
    }
   ],
   "source": [
    "coal.info()"
   ]
  },
  {
   "cell_type": "markdown",
   "metadata": {},
   "source": [
    "##### Average Coal Consumption 2019-2020"
   ]
  },
  {
   "cell_type": "code",
   "execution_count": 133,
   "metadata": {},
   "outputs": [
    {
     "data": {
      "text/plain": [
       "year\n",
       "2019    44801.416667\n",
       "2020    35985.666667\n",
       "Name: all_sectors, dtype: float64"
      ]
     },
     "execution_count": 133,
     "metadata": {},
     "output_type": "execute_result"
    }
   ],
   "source": [
    "coal.groupby('year')['all_sectors'].mean()"
   ]
  },
  {
   "cell_type": "code",
   "execution_count": 136,
   "metadata": {},
   "outputs": [
    {
     "data": {
      "text/html": [
       "<div>\n",
       "<style scoped>\n",
       "    .dataframe tbody tr th:only-of-type {\n",
       "        vertical-align: middle;\n",
       "    }\n",
       "\n",
       "    .dataframe tbody tr th {\n",
       "        vertical-align: top;\n",
       "    }\n",
       "\n",
       "    .dataframe thead th {\n",
       "        text-align: right;\n",
       "    }\n",
       "</style>\n",
       "<table border=\"1\" class=\"dataframe\">\n",
       "  <thead>\n",
       "    <tr style=\"text-align: right;\">\n",
       "      <th></th>\n",
       "      <th>year</th>\n",
       "      <th>2020</th>\n",
       "      <th>2019</th>\n",
       "    </tr>\n",
       "  </thead>\n",
       "  <tbody>\n",
       "    <tr>\n",
       "      <th>0</th>\n",
       "      <td>month</td>\n",
       "      <td>NaN</td>\n",
       "      <td>NaN</td>\n",
       "    </tr>\n",
       "    <tr>\n",
       "      <th>1</th>\n",
       "      <td>Jan</td>\n",
       "      <td>36767.0</td>\n",
       "      <td>55834.0</td>\n",
       "    </tr>\n",
       "    <tr>\n",
       "      <th>2</th>\n",
       "      <td>Feb</td>\n",
       "      <td>32039.0</td>\n",
       "      <td>45025.0</td>\n",
       "    </tr>\n",
       "    <tr>\n",
       "      <th>3</th>\n",
       "      <td>Mar</td>\n",
       "      <td>28988.0</td>\n",
       "      <td>43974.0</td>\n",
       "    </tr>\n",
       "    <tr>\n",
       "      <th>4</th>\n",
       "      <td>Apr</td>\n",
       "      <td>23622.0</td>\n",
       "      <td>33353.0</td>\n",
       "    </tr>\n",
       "  </tbody>\n",
       "</table>\n",
       "</div>"
      ],
      "text/plain": [
       "    year     2020     2019\n",
       "0  month      NaN      NaN\n",
       "1    Jan  36767.0  55834.0\n",
       "2    Feb  32039.0  45025.0\n",
       "3    Mar  28988.0  43974.0\n",
       "4    Apr  23622.0  33353.0"
      ]
     },
     "execution_count": 136,
     "metadata": {},
     "output_type": "execute_result"
    }
   ],
   "source": [
    "coal_pivot = pd.read_csv('data/energy_consumption/coal_all_sectors_pivot.csv')\n",
    "coal_pivot.head()"
   ]
  },
  {
   "cell_type": "code",
   "execution_count": 143,
   "metadata": {
    "scrolled": true
   },
   "outputs": [
    {
     "data": {
      "image/png": "[encoded data removed]",
      "text/plain": [
       "<Figure size 720x360 with 1 Axes>"
      ]
     },
     "metadata": {
      "needs_background": "light"
     },
     "output_type": "display_data"
    }
   ],
   "source": [
    "coal_pivot.plot(kind='line', figsize=(10, 5), color=['lightgray', 'gray', 'black'], rot=0)                                       \n",
    "plt.title(\"Coal Use All Sectors 2019 - 2020: Month by Month Comparison\", y=1.013, fontsize=22)\n",
    "plt.xlabel(\"Month\", labelpad=16)\n",
    "plt.xticks ([2, 4, 6, 8, 10, 12],['Feb','Apr','Jun','Aug','Oct','Dec'])\n",
    "plt.ylabel(\"Coal Use\", labelpad=16); \n",
    "\n",
    "#set x tick labels\n",
    "#plt.xticks([1, 2, 3, 5], [\"One\", \"Two\", \"Three\", \"Five\"])"
   ]
  },
  {
   "cell_type": "code",
   "execution_count": 141,
   "metadata": {},
   "outputs": [
    {
     "data": {
      "image/png": "[encoded data removed]",
      "text/plain": [
       "<Figure size 432x288 with 1 Axes>"
      ]
     },
     "metadata": {
      "needs_background": "light"
     },
     "output_type": "display_data"
    }
   ],
   "source": [
    "plt.plot(coal['month'], coal['all_sectors'], color='red', marker='o')\n",
    "plt.title('Coal Use All Sectors 2019 - 2020', fontsize=14)\n",
    "#plt.xlabel('Year', fontsize=14)\n",
    "plt.xticks(rotation = 90);\n",
    "plt.ylabel('Coal Use', fontsize=14)\n",
    "plt.grid(True)\n",
    "plt.show()"
   ]
  },
  {
   "cell_type": "markdown",
   "metadata": {},
   "source": [
    "#### --NATURAL GAS"
   ]
  },
  {
   "cell_type": "code",
   "execution_count": 54,
   "metadata": {},
   "outputs": [
    {
     "data": {
      "text/html": [
       "<div>\n",
       "<style scoped>\n",
       "    .dataframe tbody tr th:only-of-type {\n",
       "        vertical-align: middle;\n",
       "    }\n",
       "\n",
       "    .dataframe tbody tr th {\n",
       "        vertical-align: top;\n",
       "    }\n",
       "\n",
       "    .dataframe thead th {\n",
       "        text-align: right;\n",
       "    }\n",
       "</style>\n",
       "<table border=\"1\" class=\"dataframe\">\n",
       "  <thead>\n",
       "    <tr style=\"text-align: right;\">\n",
       "      <th></th>\n",
       "      <th>year</th>\n",
       "      <th>month</th>\n",
       "      <th>type</th>\n",
       "      <th>all_sectors</th>\n",
       "      <th>electric_utilities</th>\n",
       "      <th>ind_power_producers</th>\n",
       "      <th>commercial_sector</th>\n",
       "      <th>industrial_sector</th>\n",
       "    </tr>\n",
       "  </thead>\n",
       "  <tbody>\n",
       "    <tr>\n",
       "      <th>0</th>\n",
       "      <td>2019</td>\n",
       "      <td>January</td>\n",
       "      <td>natural gas</td>\n",
       "      <td>873247</td>\n",
       "      <td>441597</td>\n",
       "      <td>373529</td>\n",
       "      <td>4566</td>\n",
       "      <td>53555</td>\n",
       "    </tr>\n",
       "    <tr>\n",
       "      <th>1</th>\n",
       "      <td>2019</td>\n",
       "      <td>February</td>\n",
       "      <td>natural gas</td>\n",
       "      <td>801042</td>\n",
       "      <td>411828</td>\n",
       "      <td>338638</td>\n",
       "      <td>4217</td>\n",
       "      <td>46359</td>\n",
       "    </tr>\n",
       "    <tr>\n",
       "      <th>2</th>\n",
       "      <td>2019</td>\n",
       "      <td>March</td>\n",
       "      <td>natural gas</td>\n",
       "      <td>835654</td>\n",
       "      <td>431525</td>\n",
       "      <td>350686</td>\n",
       "      <td>4516</td>\n",
       "      <td>48926</td>\n",
       "    </tr>\n",
       "    <tr>\n",
       "      <th>3</th>\n",
       "      <td>2019</td>\n",
       "      <td>April</td>\n",
       "      <td>natural gas</td>\n",
       "      <td>762539</td>\n",
       "      <td>398908</td>\n",
       "      <td>313343</td>\n",
       "      <td>4173</td>\n",
       "      <td>46115</td>\n",
       "    </tr>\n",
       "    <tr>\n",
       "      <th>4</th>\n",
       "      <td>2019</td>\n",
       "      <td>May</td>\n",
       "      <td>natural gas</td>\n",
       "      <td>863102</td>\n",
       "      <td>458692</td>\n",
       "      <td>350386</td>\n",
       "      <td>4217</td>\n",
       "      <td>49806</td>\n",
       "    </tr>\n",
       "  </tbody>\n",
       "</table>\n",
       "</div>"
      ],
      "text/plain": [
       "   year     month         type  all_sectors  electric_utilities  \\\n",
       "0  2019   January  natural gas       873247              441597   \n",
       "1  2019  February  natural gas       801042              411828   \n",
       "2  2019     March  natural gas       835654              431525   \n",
       "3  2019     April  natural gas       762539              398908   \n",
       "4  2019       May  natural gas       863102              458692   \n",
       "\n",
       "   ind_power_producers  commercial_sector  industrial_sector  \n",
       "0               373529               4566              53555  \n",
       "1               338638               4217              46359  \n",
       "2               350686               4516              48926  \n",
       "3               313343               4173              46115  \n",
       "4               350386               4217              49806  "
      ]
     },
     "execution_count": 54,
     "metadata": {},
     "output_type": "execute_result"
    }
   ],
   "source": [
    "natural_gas = pd.read_csv('data/energy_consumption/natural_gas_clean.csv')\n",
    "natural_gas.head()"
   ]
  },
  {
   "cell_type": "code",
   "execution_count": 55,
   "metadata": {},
   "outputs": [
    {
     "data": {
      "text/html": [
       "<div>\n",
       "<style scoped>\n",
       "    .dataframe tbody tr th:only-of-type {\n",
       "        vertical-align: middle;\n",
       "    }\n",
       "\n",
       "    .dataframe tbody tr th {\n",
       "        vertical-align: top;\n",
       "    }\n",
       "\n",
       "    .dataframe thead th {\n",
       "        text-align: right;\n",
       "    }\n",
       "</style>\n",
       "<table border=\"1\" class=\"dataframe\">\n",
       "  <thead>\n",
       "    <tr style=\"text-align: right;\">\n",
       "      <th></th>\n",
       "      <th>year</th>\n",
       "      <th>month</th>\n",
       "      <th>type</th>\n",
       "      <th>all_sectors</th>\n",
       "      <th>electric_utilities</th>\n",
       "      <th>ind_power_producers</th>\n",
       "      <th>commercial_sector</th>\n",
       "      <th>industrial_sector</th>\n",
       "    </tr>\n",
       "  </thead>\n",
       "  <tbody>\n",
       "    <tr>\n",
       "      <th>16</th>\n",
       "      <td>2020</td>\n",
       "      <td>May</td>\n",
       "      <td>natural gas</td>\n",
       "      <td>853523</td>\n",
       "      <td>456172</td>\n",
       "      <td>346972</td>\n",
       "      <td>3804</td>\n",
       "      <td>46574</td>\n",
       "    </tr>\n",
       "    <tr>\n",
       "      <th>17</th>\n",
       "      <td>2020</td>\n",
       "      <td>June</td>\n",
       "      <td>natural gas</td>\n",
       "      <td>1067619</td>\n",
       "      <td>556783</td>\n",
       "      <td>457006</td>\n",
       "      <td>4249</td>\n",
       "      <td>49581</td>\n",
       "    </tr>\n",
       "    <tr>\n",
       "      <th>18</th>\n",
       "      <td>2020</td>\n",
       "      <td>July</td>\n",
       "      <td>natural gas</td>\n",
       "      <td>1396437</td>\n",
       "      <td>715032</td>\n",
       "      <td>623770</td>\n",
       "      <td>5046</td>\n",
       "      <td>52588</td>\n",
       "    </tr>\n",
       "    <tr>\n",
       "      <th>19</th>\n",
       "      <td>2020</td>\n",
       "      <td>August</td>\n",
       "      <td>natural gas</td>\n",
       "      <td>1304306</td>\n",
       "      <td>665469</td>\n",
       "      <td>580958</td>\n",
       "      <td>4980</td>\n",
       "      <td>52899</td>\n",
       "    </tr>\n",
       "    <tr>\n",
       "      <th>20</th>\n",
       "      <td>2020</td>\n",
       "      <td>Sept</td>\n",
       "      <td>natural gas</td>\n",
       "      <td>1058029</td>\n",
       "      <td>536040</td>\n",
       "      <td>469587</td>\n",
       "      <td>4484</td>\n",
       "      <td>47918</td>\n",
       "    </tr>\n",
       "  </tbody>\n",
       "</table>\n",
       "</div>"
      ],
      "text/plain": [
       "    year   month         type  all_sectors  electric_utilities  \\\n",
       "16  2020     May  natural gas       853523              456172   \n",
       "17  2020    June  natural gas      1067619              556783   \n",
       "18  2020    July  natural gas      1396437              715032   \n",
       "19  2020  August  natural gas      1304306              665469   \n",
       "20  2020    Sept  natural gas      1058029              536040   \n",
       "\n",
       "    ind_power_producers  commercial_sector  industrial_sector  \n",
       "16               346972               3804              46574  \n",
       "17               457006               4249              49581  \n",
       "18               623770               5046              52588  \n",
       "19               580958               4980              52899  \n",
       "20               469587               4484              47918  "
      ]
     },
     "execution_count": 55,
     "metadata": {},
     "output_type": "execute_result"
    }
   ],
   "source": [
    "natural_gas.tail()"
   ]
  },
  {
   "cell_type": "markdown",
   "metadata": {},
   "source": [
    "##### Average Natural Gas Consumption 2019-2020"
   ]
  },
  {
   "cell_type": "code",
   "execution_count": 56,
   "metadata": {},
   "outputs": [
    {
     "data": {
      "text/plain": [
       "year\n",
       "2019    9.667132e+05\n",
       "2020    1.024988e+06\n",
       "Name: all_sectors, dtype: float64"
      ]
     },
     "execution_count": 56,
     "metadata": {},
     "output_type": "execute_result"
    }
   ],
   "source": [
    "natural_gas.groupby('year')['all_sectors'].mean()"
   ]
  },
  {
   "cell_type": "code",
   "execution_count": 146,
   "metadata": {},
   "outputs": [
    {
     "data": {
      "image/png": "[encoded data removed]",
      "text/plain": [
       "<Figure size 432x288 with 1 Axes>"
      ]
     },
     "metadata": {
      "needs_background": "light"
     },
     "output_type": "display_data"
    }
   ],
   "source": [
    "plt.plot(natural_gas['month'], natural_gas['all_sectors'], color='red', marker='o')\n",
    "plt.title('Natural Gas Use All Sectors 2019 - 2020', fontsize=14)\n",
    "#plt.xlabel('Year', fontsize=14)\n",
    "plt.xticks(rotation = 90);\n",
    "plt.ylabel('Natural Gas Use', fontsize=14)\n",
    "plt.grid(True)\n",
    "plt.show()"
   ]
  },
  {
   "cell_type": "markdown",
   "metadata": {},
   "source": [
    "#### --PETROLIUM LIQUIDS"
   ]
  },
  {
   "cell_type": "code",
   "execution_count": 147,
   "metadata": {},
   "outputs": [
    {
     "data": {
      "text/html": [
       "<div>\n",
       "<style scoped>\n",
       "    .dataframe tbody tr th:only-of-type {\n",
       "        vertical-align: middle;\n",
       "    }\n",
       "\n",
       "    .dataframe tbody tr th {\n",
       "        vertical-align: top;\n",
       "    }\n",
       "\n",
       "    .dataframe thead th {\n",
       "        text-align: right;\n",
       "    }\n",
       "</style>\n",
       "<table border=\"1\" class=\"dataframe\">\n",
       "  <thead>\n",
       "    <tr style=\"text-align: right;\">\n",
       "      <th></th>\n",
       "      <th>year</th>\n",
       "      <th>month</th>\n",
       "      <th>type</th>\n",
       "      <th>all_sectors</th>\n",
       "      <th>electric_utilities</th>\n",
       "      <th>ind_power_producers</th>\n",
       "      <th>commercial_sector</th>\n",
       "      <th>industrial_sector</th>\n",
       "    </tr>\n",
       "  </thead>\n",
       "  <tbody>\n",
       "    <tr>\n",
       "      <th>0</th>\n",
       "      <td>2019</td>\n",
       "      <td>January</td>\n",
       "      <td>petro liquids</td>\n",
       "      <td>2506</td>\n",
       "      <td>1672</td>\n",
       "      <td>755</td>\n",
       "      <td>32</td>\n",
       "      <td>46</td>\n",
       "    </tr>\n",
       "    <tr>\n",
       "      <th>1</th>\n",
       "      <td>2019</td>\n",
       "      <td>February</td>\n",
       "      <td>petro liquids</td>\n",
       "      <td>1482</td>\n",
       "      <td>1099</td>\n",
       "      <td>327</td>\n",
       "      <td>15</td>\n",
       "      <td>42</td>\n",
       "    </tr>\n",
       "    <tr>\n",
       "      <th>2</th>\n",
       "      <td>2019</td>\n",
       "      <td>March</td>\n",
       "      <td>petro liquids</td>\n",
       "      <td>1476</td>\n",
       "      <td>1159</td>\n",
       "      <td>263</td>\n",
       "      <td>16</td>\n",
       "      <td>38</td>\n",
       "    </tr>\n",
       "    <tr>\n",
       "      <th>3</th>\n",
       "      <td>2019</td>\n",
       "      <td>April</td>\n",
       "      <td>petro liquids</td>\n",
       "      <td>1417</td>\n",
       "      <td>1046</td>\n",
       "      <td>313</td>\n",
       "      <td>15</td>\n",
       "      <td>44</td>\n",
       "    </tr>\n",
       "    <tr>\n",
       "      <th>4</th>\n",
       "      <td>2019</td>\n",
       "      <td>May</td>\n",
       "      <td>petro liquids</td>\n",
       "      <td>1702</td>\n",
       "      <td>1305</td>\n",
       "      <td>346</td>\n",
       "      <td>17</td>\n",
       "      <td>33</td>\n",
       "    </tr>\n",
       "  </tbody>\n",
       "</table>\n",
       "</div>"
      ],
      "text/plain": [
       "   year     month           type  all_sectors  electric_utilities  \\\n",
       "0  2019   January  petro liquids         2506                1672   \n",
       "1  2019  February  petro liquids         1482                1099   \n",
       "2  2019     March  petro liquids         1476                1159   \n",
       "3  2019     April  petro liquids         1417                1046   \n",
       "4  2019       May  petro liquids         1702                1305   \n",
       "\n",
       "   ind_power_producers  commercial_sector  industrial_sector  \n",
       "0                  755                 32                 46  \n",
       "1                  327                 15                 42  \n",
       "2                  263                 16                 38  \n",
       "3                  313                 15                 44  \n",
       "4                  346                 17                 33  "
      ]
     },
     "execution_count": 147,
     "metadata": {},
     "output_type": "execute_result"
    }
   ],
   "source": [
    "petro_liquids = pd.read_csv('data/energy_consumption/petro_liquid_clean.csv')\n",
    "petro_liquids.head()"
   ]
  },
  {
   "cell_type": "code",
   "execution_count": 148,
   "metadata": {},
   "outputs": [
    {
     "data": {
      "text/html": [
       "<div>\n",
       "<style scoped>\n",
       "    .dataframe tbody tr th:only-of-type {\n",
       "        vertical-align: middle;\n",
       "    }\n",
       "\n",
       "    .dataframe tbody tr th {\n",
       "        vertical-align: top;\n",
       "    }\n",
       "\n",
       "    .dataframe thead th {\n",
       "        text-align: right;\n",
       "    }\n",
       "</style>\n",
       "<table border=\"1\" class=\"dataframe\">\n",
       "  <thead>\n",
       "    <tr style=\"text-align: right;\">\n",
       "      <th></th>\n",
       "      <th>year</th>\n",
       "      <th>month</th>\n",
       "      <th>type</th>\n",
       "      <th>all_sectors</th>\n",
       "      <th>electric_utilities</th>\n",
       "      <th>ind_power_producers</th>\n",
       "      <th>commercial_sector</th>\n",
       "      <th>industrial_sector</th>\n",
       "    </tr>\n",
       "  </thead>\n",
       "  <tbody>\n",
       "    <tr>\n",
       "      <th>16</th>\n",
       "      <td>2020</td>\n",
       "      <td>May</td>\n",
       "      <td>petro liquids</td>\n",
       "      <td>1288</td>\n",
       "      <td>1010</td>\n",
       "      <td>227</td>\n",
       "      <td>20</td>\n",
       "      <td>31</td>\n",
       "    </tr>\n",
       "    <tr>\n",
       "      <th>17</th>\n",
       "      <td>2020</td>\n",
       "      <td>June</td>\n",
       "      <td>petro liquids</td>\n",
       "      <td>1569</td>\n",
       "      <td>1232</td>\n",
       "      <td>287</td>\n",
       "      <td>20</td>\n",
       "      <td>30</td>\n",
       "    </tr>\n",
       "    <tr>\n",
       "      <th>18</th>\n",
       "      <td>2020</td>\n",
       "      <td>July</td>\n",
       "      <td>petro liquids</td>\n",
       "      <td>1747</td>\n",
       "      <td>1343</td>\n",
       "      <td>348</td>\n",
       "      <td>25</td>\n",
       "      <td>31</td>\n",
       "    </tr>\n",
       "    <tr>\n",
       "      <th>19</th>\n",
       "      <td>2020</td>\n",
       "      <td>August</td>\n",
       "      <td>petro liquids</td>\n",
       "      <td>1674</td>\n",
       "      <td>1316</td>\n",
       "      <td>311</td>\n",
       "      <td>24</td>\n",
       "      <td>23</td>\n",
       "    </tr>\n",
       "    <tr>\n",
       "      <th>20</th>\n",
       "      <td>2020</td>\n",
       "      <td>Sept</td>\n",
       "      <td>petro liquids</td>\n",
       "      <td>1411</td>\n",
       "      <td>1129</td>\n",
       "      <td>233</td>\n",
       "      <td>23</td>\n",
       "      <td>27</td>\n",
       "    </tr>\n",
       "  </tbody>\n",
       "</table>\n",
       "</div>"
      ],
      "text/plain": [
       "    year   month           type  all_sectors  electric_utilities  \\\n",
       "16  2020     May  petro liquids         1288                1010   \n",
       "17  2020    June  petro liquids         1569                1232   \n",
       "18  2020    July  petro liquids         1747                1343   \n",
       "19  2020  August  petro liquids         1674                1316   \n",
       "20  2020    Sept  petro liquids         1411                1129   \n",
       "\n",
       "    ind_power_producers  commercial_sector  industrial_sector  \n",
       "16                  227                 20                 31  \n",
       "17                  287                 20                 30  \n",
       "18                  348                 25                 31  \n",
       "19                  311                 24                 23  \n",
       "20                  233                 23                 27  "
      ]
     },
     "execution_count": 148,
     "metadata": {},
     "output_type": "execute_result"
    }
   ],
   "source": [
    "petro_liquids.tail()"
   ]
  },
  {
   "cell_type": "markdown",
   "metadata": {},
   "source": [
    "##### Average Petroleum Liquids Consumption 2019-2020"
   ]
  },
  {
   "cell_type": "code",
   "execution_count": 149,
   "metadata": {},
   "outputs": [
    {
     "data": {
      "text/plain": [
       "year\n",
       "2019    1736.333333\n",
       "2020    1496.000000\n",
       "Name: all_sectors, dtype: float64"
      ]
     },
     "execution_count": 149,
     "metadata": {},
     "output_type": "execute_result"
    }
   ],
   "source": [
    "petro_liquids.groupby('year')['all_sectors'].mean()"
   ]
  },
  {
   "cell_type": "code",
   "execution_count": 151,
   "metadata": {},
   "outputs": [
    {
     "data": {
      "image/png": "[encoded data removed]",
      "text/plain": [
       "<Figure size 432x288 with 1 Axes>"
      ]
     },
     "metadata": {
      "needs_background": "light"
     },
     "output_type": "display_data"
    }
   ],
   "source": [
    "plt.plot(petro_liquids['month'], petro_liquids['all_sectors'], color='red', marker='o')\n",
    "plt.title('Petroleum Liquids Use All Sectors 2019 - 2020', fontsize=14)\n",
    "#plt.xlabel('Year', fontsize=14)\n",
    "plt.xticks(rotation = 90);\n",
    "plt.ylabel('Petroleum Liquids Use', fontsize=14)\n",
    "plt.grid(True)\n",
    "plt.show()"
   ]
  },
  {
   "cell_type": "markdown",
   "metadata": {},
   "source": [
    "#### --PETROLIUM COKE"
   ]
  },
  {
   "cell_type": "code",
   "execution_count": 60,
   "metadata": {},
   "outputs": [
    {
     "data": {
      "text/html": [
       "<div>\n",
       "<style scoped>\n",
       "    .dataframe tbody tr th:only-of-type {\n",
       "        vertical-align: middle;\n",
       "    }\n",
       "\n",
       "    .dataframe tbody tr th {\n",
       "        vertical-align: top;\n",
       "    }\n",
       "\n",
       "    .dataframe thead th {\n",
       "        text-align: right;\n",
       "    }\n",
       "</style>\n",
       "<table border=\"1\" class=\"dataframe\">\n",
       "  <thead>\n",
       "    <tr style=\"text-align: right;\">\n",
       "      <th></th>\n",
       "      <th>year</th>\n",
       "      <th>month</th>\n",
       "      <th>type</th>\n",
       "      <th>all_sectors</th>\n",
       "      <th>electric_utilities</th>\n",
       "      <th>ind_power_producers</th>\n",
       "      <th>commercial_sector</th>\n",
       "      <th>industrial_sector</th>\n",
       "    </tr>\n",
       "  </thead>\n",
       "  <tbody>\n",
       "    <tr>\n",
       "      <th>0</th>\n",
       "      <td>2019</td>\n",
       "      <td>January</td>\n",
       "      <td>petro coke</td>\n",
       "      <td>326</td>\n",
       "      <td>258</td>\n",
       "      <td>54</td>\n",
       "      <td>0</td>\n",
       "      <td>13</td>\n",
       "    </tr>\n",
       "    <tr>\n",
       "      <th>1</th>\n",
       "      <td>2019</td>\n",
       "      <td>February</td>\n",
       "      <td>petro coke</td>\n",
       "      <td>272</td>\n",
       "      <td>222</td>\n",
       "      <td>39</td>\n",
       "      <td>0</td>\n",
       "      <td>11</td>\n",
       "    </tr>\n",
       "    <tr>\n",
       "      <th>2</th>\n",
       "      <td>2019</td>\n",
       "      <td>March</td>\n",
       "      <td>petro coke</td>\n",
       "      <td>235</td>\n",
       "      <td>193</td>\n",
       "      <td>28</td>\n",
       "      <td>0</td>\n",
       "      <td>13</td>\n",
       "    </tr>\n",
       "    <tr>\n",
       "      <th>3</th>\n",
       "      <td>2019</td>\n",
       "      <td>April</td>\n",
       "      <td>petro coke</td>\n",
       "      <td>155</td>\n",
       "      <td>107</td>\n",
       "      <td>32</td>\n",
       "      <td>0</td>\n",
       "      <td>16</td>\n",
       "    </tr>\n",
       "    <tr>\n",
       "      <th>4</th>\n",
       "      <td>2019</td>\n",
       "      <td>May</td>\n",
       "      <td>petro coke</td>\n",
       "      <td>294</td>\n",
       "      <td>219</td>\n",
       "      <td>60</td>\n",
       "      <td>0</td>\n",
       "      <td>14</td>\n",
       "    </tr>\n",
       "  </tbody>\n",
       "</table>\n",
       "</div>"
      ],
      "text/plain": [
       "   year     month        type  all_sectors  electric_utilities  \\\n",
       "0  2019   January  petro coke          326                 258   \n",
       "1  2019  February  petro coke          272                 222   \n",
       "2  2019     March  petro coke          235                 193   \n",
       "3  2019     April  petro coke          155                 107   \n",
       "4  2019       May  petro coke          294                 219   \n",
       "\n",
       "   ind_power_producers  commercial_sector  industrial_sector  \n",
       "0                   54                  0                 13  \n",
       "1                   39                  0                 11  \n",
       "2                   28                  0                 13  \n",
       "3                   32                  0                 16  \n",
       "4                   60                  0                 14  "
      ]
     },
     "execution_count": 60,
     "metadata": {},
     "output_type": "execute_result"
    }
   ],
   "source": [
    "petro_coke = pd.read_csv('data/energy_consumption/petro_coke_clean.csv')\n",
    "petro_coke.head()"
   ]
  },
  {
   "cell_type": "code",
   "execution_count": 61,
   "metadata": {},
   "outputs": [
    {
     "data": {
      "text/html": [
       "<div>\n",
       "<style scoped>\n",
       "    .dataframe tbody tr th:only-of-type {\n",
       "        vertical-align: middle;\n",
       "    }\n",
       "\n",
       "    .dataframe tbody tr th {\n",
       "        vertical-align: top;\n",
       "    }\n",
       "\n",
       "    .dataframe thead th {\n",
       "        text-align: right;\n",
       "    }\n",
       "</style>\n",
       "<table border=\"1\" class=\"dataframe\">\n",
       "  <thead>\n",
       "    <tr style=\"text-align: right;\">\n",
       "      <th></th>\n",
       "      <th>year</th>\n",
       "      <th>month</th>\n",
       "      <th>type</th>\n",
       "      <th>all_sectors</th>\n",
       "      <th>electric_utilities</th>\n",
       "      <th>ind_power_producers</th>\n",
       "      <th>commercial_sector</th>\n",
       "      <th>industrial_sector</th>\n",
       "    </tr>\n",
       "  </thead>\n",
       "  <tbody>\n",
       "    <tr>\n",
       "      <th>16</th>\n",
       "      <td>2020</td>\n",
       "      <td>May</td>\n",
       "      <td>petro coke</td>\n",
       "      <td>231</td>\n",
       "      <td>183</td>\n",
       "      <td>35</td>\n",
       "      <td>0</td>\n",
       "      <td>13</td>\n",
       "    </tr>\n",
       "    <tr>\n",
       "      <th>17</th>\n",
       "      <td>2020</td>\n",
       "      <td>June</td>\n",
       "      <td>petro coke</td>\n",
       "      <td>308</td>\n",
       "      <td>258</td>\n",
       "      <td>36</td>\n",
       "      <td>0</td>\n",
       "      <td>14</td>\n",
       "    </tr>\n",
       "    <tr>\n",
       "      <th>18</th>\n",
       "      <td>2020</td>\n",
       "      <td>July</td>\n",
       "      <td>petro coke</td>\n",
       "      <td>356</td>\n",
       "      <td>298</td>\n",
       "      <td>43</td>\n",
       "      <td>0</td>\n",
       "      <td>15</td>\n",
       "    </tr>\n",
       "    <tr>\n",
       "      <th>19</th>\n",
       "      <td>2020</td>\n",
       "      <td>August</td>\n",
       "      <td>petro coke</td>\n",
       "      <td>305</td>\n",
       "      <td>245</td>\n",
       "      <td>44</td>\n",
       "      <td>0</td>\n",
       "      <td>16</td>\n",
       "    </tr>\n",
       "    <tr>\n",
       "      <th>20</th>\n",
       "      <td>2020</td>\n",
       "      <td>Sept</td>\n",
       "      <td>petro coke</td>\n",
       "      <td>159</td>\n",
       "      <td>116</td>\n",
       "      <td>31</td>\n",
       "      <td>0</td>\n",
       "      <td>13</td>\n",
       "    </tr>\n",
       "  </tbody>\n",
       "</table>\n",
       "</div>"
      ],
      "text/plain": [
       "    year   month        type  all_sectors  electric_utilities  \\\n",
       "16  2020     May  petro coke          231                 183   \n",
       "17  2020    June  petro coke          308                 258   \n",
       "18  2020    July  petro coke          356                 298   \n",
       "19  2020  August  petro coke          305                 245   \n",
       "20  2020    Sept  petro coke          159                 116   \n",
       "\n",
       "    ind_power_producers  commercial_sector  industrial_sector  \n",
       "16                   35                  0                 13  \n",
       "17                   36                  0                 14  \n",
       "18                   43                  0                 15  \n",
       "19                   44                  0                 16  \n",
       "20                   31                  0                 13  "
      ]
     },
     "execution_count": 61,
     "metadata": {},
     "output_type": "execute_result"
    }
   ],
   "source": [
    "petro_coke.tail()"
   ]
  },
  {
   "cell_type": "markdown",
   "metadata": {},
   "source": [
    "##### Average Petroleum Coke Consumption 2019-2020"
   ]
  },
  {
   "cell_type": "code",
   "execution_count": 62,
   "metadata": {},
   "outputs": [
    {
     "data": {
      "text/plain": [
       "year\n",
       "2019    226.916667\n",
       "2020    254.777778\n",
       "Name: all_sectors, dtype: float64"
      ]
     },
     "execution_count": 62,
     "metadata": {},
     "output_type": "execute_result"
    }
   ],
   "source": [
    "petro_coke.groupby('year')['all_sectors'].mean()"
   ]
  },
  {
   "cell_type": "code",
   "execution_count": 152,
   "metadata": {},
   "outputs": [
    {
     "data": {
      "image/png": "[encoded data removed]",
      "text/plain": [
       "<Figure size 432x288 with 1 Axes>"
      ]
     },
     "metadata": {
      "needs_background": "light"
     },
     "output_type": "display_data"
    }
   ],
   "source": [
    "plt.plot(petro_coke['month'], petro_coke['all_sectors'], color='red', marker='o')\n",
    "plt.title('Petroleum Coke Use All Sectors 2019 - 2020', fontsize=14)\n",
    "#plt.xlabel('Year', fontsize=14)\n",
    "plt.xticks(rotation = 90);\n",
    "plt.ylabel('Petroleum Coke Use', fontsize=14)\n",
    "plt.grid(True)\n",
    "plt.show()"
   ]
  },
  {
   "cell_type": "markdown",
   "metadata": {},
   "source": [
    "## 2. Reading in 'Transportation Trends' Data"
   ]
  },
  {
   "cell_type": "markdown",
   "metadata": {},
   "source": [
    "#### --TSA "
   ]
  },
  {
   "cell_type": "code",
   "execution_count": 63,
   "metadata": {},
   "outputs": [
    {
     "data": {
      "text/html": [
       "<div>\n",
       "<style scoped>\n",
       "    .dataframe tbody tr th:only-of-type {\n",
       "        vertical-align: middle;\n",
       "    }\n",
       "\n",
       "    .dataframe tbody tr th {\n",
       "        vertical-align: top;\n",
       "    }\n",
       "\n",
       "    .dataframe thead th {\n",
       "        text-align: right;\n",
       "    }\n",
       "</style>\n",
       "<table border=\"1\" class=\"dataframe\">\n",
       "  <thead>\n",
       "    <tr style=\"text-align: right;\">\n",
       "      <th></th>\n",
       "      <th>date</th>\n",
       "      <th>throughput</th>\n",
       "      <th>year</th>\n",
       "    </tr>\n",
       "  </thead>\n",
       "  <tbody>\n",
       "    <tr>\n",
       "      <th>0</th>\n",
       "      <td>12/10/2020</td>\n",
       "      <td>754307</td>\n",
       "      <td>2020</td>\n",
       "    </tr>\n",
       "    <tr>\n",
       "      <th>1</th>\n",
       "      <td>12/9/2020</td>\n",
       "      <td>564372</td>\n",
       "      <td>2020</td>\n",
       "    </tr>\n",
       "    <tr>\n",
       "      <th>2</th>\n",
       "      <td>12/8/2020</td>\n",
       "      <td>501513</td>\n",
       "      <td>2020</td>\n",
       "    </tr>\n",
       "    <tr>\n",
       "      <th>3</th>\n",
       "      <td>12/7/2020</td>\n",
       "      <td>703546</td>\n",
       "      <td>2020</td>\n",
       "    </tr>\n",
       "    <tr>\n",
       "      <th>4</th>\n",
       "      <td>12/6/2020</td>\n",
       "      <td>837137</td>\n",
       "      <td>2020</td>\n",
       "    </tr>\n",
       "  </tbody>\n",
       "</table>\n",
       "</div>"
      ],
      "text/plain": [
       "         date  throughput  year\n",
       "0  12/10/2020      754307  2020\n",
       "1   12/9/2020      564372  2020\n",
       "2   12/8/2020      501513  2020\n",
       "3   12/7/2020      703546  2020\n",
       "4   12/6/2020      837137  2020"
      ]
     },
     "execution_count": 63,
     "metadata": {},
     "output_type": "execute_result"
    }
   ],
   "source": [
    "tsa = pd.read_csv('data/transportation/tsa/TSA_traveler_throughput.csv')\n",
    "tsa.head()"
   ]
  },
  {
   "cell_type": "code",
   "execution_count": 39,
   "metadata": {},
   "outputs": [
    {
     "data": {
      "text/html": [
       "<div>\n",
       "<style scoped>\n",
       "    .dataframe tbody tr th:only-of-type {\n",
       "        vertical-align: middle;\n",
       "    }\n",
       "\n",
       "    .dataframe tbody tr th {\n",
       "        vertical-align: top;\n",
       "    }\n",
       "\n",
       "    .dataframe thead th {\n",
       "        text-align: right;\n",
       "    }\n",
       "</style>\n",
       "<table border=\"1\" class=\"dataframe\">\n",
       "  <thead>\n",
       "    <tr style=\"text-align: right;\">\n",
       "      <th></th>\n",
       "      <th>date</th>\n",
       "      <th>throughput</th>\n",
       "      <th>year</th>\n",
       "    </tr>\n",
       "  </thead>\n",
       "  <tbody>\n",
       "    <tr>\n",
       "      <th>565</th>\n",
       "      <td>3/5/2019</td>\n",
       "      <td>2402692</td>\n",
       "      <td>2019</td>\n",
       "    </tr>\n",
       "    <tr>\n",
       "      <th>566</th>\n",
       "      <td>3/4/2019</td>\n",
       "      <td>2143619</td>\n",
       "      <td>2019</td>\n",
       "    </tr>\n",
       "    <tr>\n",
       "      <th>567</th>\n",
       "      <td>3/3/2019</td>\n",
       "      <td>1979558</td>\n",
       "      <td>2019</td>\n",
       "    </tr>\n",
       "    <tr>\n",
       "      <th>568</th>\n",
       "      <td>3/2/2019</td>\n",
       "      <td>2257920</td>\n",
       "      <td>2019</td>\n",
       "    </tr>\n",
       "    <tr>\n",
       "      <th>569</th>\n",
       "      <td>3/1/2019</td>\n",
       "      <td>2301439</td>\n",
       "      <td>2019</td>\n",
       "    </tr>\n",
       "  </tbody>\n",
       "</table>\n",
       "</div>"
      ],
      "text/plain": [
       "         date  throughput  year\n",
       "565  3/5/2019     2402692  2019\n",
       "566  3/4/2019     2143619  2019\n",
       "567  3/3/2019     1979558  2019\n",
       "568  3/2/2019     2257920  2019\n",
       "569  3/1/2019     2301439  2019"
      ]
     },
     "execution_count": 39,
     "metadata": {},
     "output_type": "execute_result"
    }
   ],
   "source": [
    "tsa.tail()"
   ]
  },
  {
   "cell_type": "markdown",
   "metadata": {},
   "source": [
    "##### Average TSA Throughput 2019-2020"
   ]
  },
  {
   "cell_type": "code",
   "execution_count": 64,
   "metadata": {},
   "outputs": [
    {
     "data": {
      "text/plain": [
       "year\n",
       "2019    2.375639e+06\n",
       "2020    6.387919e+05\n",
       "Name: throughput, dtype: float64"
      ]
     },
     "execution_count": 64,
     "metadata": {},
     "output_type": "execute_result"
    }
   ],
   "source": [
    "tsa.groupby('year')['throughput'].mean()"
   ]
  },
  {
   "cell_type": "code",
   "execution_count": 155,
   "metadata": {},
   "outputs": [
    {
     "data": {
      "image/png": "[encoded data removed]",
      "text/plain": [
       "<Figure size 432x288 with 1 Axes>"
      ]
     },
     "metadata": {
      "needs_background": "light"
     },
     "output_type": "display_data"
    }
   ],
   "source": [
    "plt.plot(tsa['date'], tsa['throughput'], color='red', marker='o')\n",
    "plt.title('TSA Throughput 2019 - 2020', fontsize=14)\n",
    "#plt.xlabel('Year', fontsize=14)\n",
    "plt.xticks(rotation = 90);\n",
    "plt.ylabel('Airport Throughput', fontsize=14)\n",
    "plt.grid(True)\n",
    "plt.show()"
   ]
  },
  {
   "cell_type": "markdown",
   "metadata": {},
   "source": [
    "#### --Airline Traffic "
   ]
  },
  {
   "cell_type": "code",
   "execution_count": 40,
   "metadata": {},
   "outputs": [
    {
     "data": {
      "text/html": [
       "<div>\n",
       "<style scoped>\n",
       "    .dataframe tbody tr th:only-of-type {\n",
       "        vertical-align: middle;\n",
       "    }\n",
       "\n",
       "    .dataframe tbody tr th {\n",
       "        vertical-align: top;\n",
       "    }\n",
       "\n",
       "    .dataframe thead th {\n",
       "        text-align: right;\n",
       "    }\n",
       "</style>\n",
       "<table border=\"1\" class=\"dataframe\">\n",
       "  <thead>\n",
       "    <tr style=\"text-align: right;\">\n",
       "      <th></th>\n",
       "      <th>month</th>\n",
       "      <th>2017</th>\n",
       "      <th>2018</th>\n",
       "      <th>2019</th>\n",
       "      <th>2020</th>\n",
       "    </tr>\n",
       "  </thead>\n",
       "  <tbody>\n",
       "    <tr>\n",
       "      <th>0</th>\n",
       "      <td>January</td>\n",
       "      <td>62.62</td>\n",
       "      <td>64.43</td>\n",
       "      <td>67.02</td>\n",
       "      <td>70.76</td>\n",
       "    </tr>\n",
       "    <tr>\n",
       "      <th>1</th>\n",
       "      <td>February</td>\n",
       "      <td>58.38</td>\n",
       "      <td>61.72</td>\n",
       "      <td>63.58</td>\n",
       "      <td>67.81</td>\n",
       "    </tr>\n",
       "    <tr>\n",
       "      <th>2</th>\n",
       "      <td>March</td>\n",
       "      <td>72.96</td>\n",
       "      <td>76.29</td>\n",
       "      <td>80.21</td>\n",
       "      <td>39.06</td>\n",
       "    </tr>\n",
       "    <tr>\n",
       "      <th>3</th>\n",
       "      <td>April</td>\n",
       "      <td>70.26</td>\n",
       "      <td>73.63</td>\n",
       "      <td>76.43</td>\n",
       "      <td>3.01</td>\n",
       "    </tr>\n",
       "    <tr>\n",
       "      <th>4</th>\n",
       "      <td>May</td>\n",
       "      <td>73.68</td>\n",
       "      <td>77.30</td>\n",
       "      <td>81.35</td>\n",
       "      <td>8.43</td>\n",
       "    </tr>\n",
       "  </tbody>\n",
       "</table>\n",
       "</div>"
      ],
      "text/plain": [
       "      month   2017   2018   2019   2020\n",
       "0   January  62.62  64.43  67.02  70.76\n",
       "1  February  58.38  61.72  63.58  67.81\n",
       "2     March  72.96  76.29  80.21  39.06\n",
       "3     April  70.26  73.63  76.43   3.01\n",
       "4       May  73.68  77.30  81.35   8.43"
      ]
     },
     "execution_count": 40,
     "metadata": {},
     "output_type": "execute_result"
    }
   ],
   "source": [
    "airlines = pd.read_csv('data/transportation/airlines/air_traffic.csv')\n",
    "airlines.head()"
   ]
  },
  {
   "cell_type": "code",
   "execution_count": 41,
   "metadata": {},
   "outputs": [
    {
     "data": {
      "text/html": [
       "<div>\n",
       "<style scoped>\n",
       "    .dataframe tbody tr th:only-of-type {\n",
       "        vertical-align: middle;\n",
       "    }\n",
       "\n",
       "    .dataframe tbody tr th {\n",
       "        vertical-align: top;\n",
       "    }\n",
       "\n",
       "    .dataframe thead th {\n",
       "        text-align: right;\n",
       "    }\n",
       "</style>\n",
       "<table border=\"1\" class=\"dataframe\">\n",
       "  <thead>\n",
       "    <tr style=\"text-align: right;\">\n",
       "      <th></th>\n",
       "      <th>month</th>\n",
       "      <th>2017</th>\n",
       "      <th>2018</th>\n",
       "      <th>2019</th>\n",
       "      <th>2020</th>\n",
       "    </tr>\n",
       "  </thead>\n",
       "  <tbody>\n",
       "    <tr>\n",
       "      <th>7</th>\n",
       "      <td>August</td>\n",
       "      <td>77.10</td>\n",
       "      <td>80.99</td>\n",
       "      <td>83.78</td>\n",
       "      <td>NaN</td>\n",
       "    </tr>\n",
       "    <tr>\n",
       "      <th>8</th>\n",
       "      <td>September</td>\n",
       "      <td>64.92</td>\n",
       "      <td>68.70</td>\n",
       "      <td>72.59</td>\n",
       "      <td>NaN</td>\n",
       "    </tr>\n",
       "    <tr>\n",
       "      <th>9</th>\n",
       "      <td>October</td>\n",
       "      <td>72.70</td>\n",
       "      <td>75.51</td>\n",
       "      <td>78.62</td>\n",
       "      <td>NaN</td>\n",
       "    </tr>\n",
       "    <tr>\n",
       "      <th>10</th>\n",
       "      <td>November</td>\n",
       "      <td>69.63</td>\n",
       "      <td>72.74</td>\n",
       "      <td>73.07</td>\n",
       "      <td>NaN</td>\n",
       "    </tr>\n",
       "    <tr>\n",
       "      <th>11</th>\n",
       "      <td>December</td>\n",
       "      <td>70.33</td>\n",
       "      <td>72.88</td>\n",
       "      <td>79.30</td>\n",
       "      <td>NaN</td>\n",
       "    </tr>\n",
       "  </tbody>\n",
       "</table>\n",
       "</div>"
      ],
      "text/plain": [
       "        month   2017   2018   2019  2020\n",
       "7      August  77.10  80.99  83.78   NaN\n",
       "8   September  64.92  68.70  72.59   NaN\n",
       "9     October  72.70  75.51  78.62   NaN\n",
       "10   November  69.63  72.74  73.07   NaN\n",
       "11   December  70.33  72.88  79.30   NaN"
      ]
     },
     "execution_count": 41,
     "metadata": {},
     "output_type": "execute_result"
    }
   ],
   "source": [
    "airlines.tail()"
   ]
  },
  {
   "cell_type": "markdown",
   "metadata": {},
   "source": [
    "##### Average Airline Miles Traveled 2017-2020"
   ]
  },
  {
   "cell_type": "code",
   "execution_count": 66,
   "metadata": {},
   "outputs": [
    {
     "name": "stdout",
     "output_type": "stream",
     "text": [
      "Average amount of airline miles (2017):  70.78416666666668\n"
     ]
    }
   ],
   "source": [
    "print('Average amount of airline miles (2017): ', airlines['2017'].mean())"
   ]
  },
  {
   "cell_type": "code",
   "execution_count": 67,
   "metadata": {},
   "outputs": [
    {
     "name": "stdout",
     "output_type": "stream",
     "text": [
      "Average amount of airline miles (2018):  74.08583333333334\n"
     ]
    }
   ],
   "source": [
    "print('Average amount of airline miles (2018): ', airlines['2018'].mean())"
   ]
  },
  {
   "cell_type": "code",
   "execution_count": 68,
   "metadata": {},
   "outputs": [
    {
     "name": "stdout",
     "output_type": "stream",
     "text": [
      "Average amount of airline miles (2019):  77.22916666666667\n"
     ]
    }
   ],
   "source": [
    "print('Average amount of airline miles (2019): ', airlines['2019'].mean())"
   ]
  },
  {
   "cell_type": "code",
   "execution_count": 69,
   "metadata": {},
   "outputs": [
    {
     "name": "stdout",
     "output_type": "stream",
     "text": [
      "Average amount of airline miles (2020):  34.26\n"
     ]
    }
   ],
   "source": [
    "print('Average amount of airline miles (2020): ', airlines['2020'].mean())"
   ]
  },
  {
   "cell_type": "markdown",
   "metadata": {},
   "source": [
    "#### --Airline Fuel Consumption"
   ]
  },
  {
   "cell_type": "code",
   "execution_count": 42,
   "metadata": {},
   "outputs": [
    {
     "data": {
      "text/html": [
       "<div>\n",
       "<style scoped>\n",
       "    .dataframe tbody tr th:only-of-type {\n",
       "        vertical-align: middle;\n",
       "    }\n",
       "\n",
       "    .dataframe tbody tr th {\n",
       "        vertical-align: top;\n",
       "    }\n",
       "\n",
       "    .dataframe thead th {\n",
       "        text-align: right;\n",
       "    }\n",
       "</style>\n",
       "<table border=\"1\" class=\"dataframe\">\n",
       "  <thead>\n",
       "    <tr style=\"text-align: right;\">\n",
       "      <th></th>\n",
       "      <th>year</th>\n",
       "      <th>month</th>\n",
       "      <th>dom_consumption</th>\n",
       "      <th>dom_cost</th>\n",
       "      <th>dom_cost_per_gallon</th>\n",
       "      <th>int_consumption</th>\n",
       "      <th>int_cost</th>\n",
       "      <th>int_cost_per_gallon</th>\n",
       "      <th>total_consumption</th>\n",
       "      <th>total_cost</th>\n",
       "      <th>total_cost_per_gallon</th>\n",
       "    </tr>\n",
       "  </thead>\n",
       "  <tbody>\n",
       "    <tr>\n",
       "      <th>0</th>\n",
       "      <td>2000</td>\n",
       "      <td>January</td>\n",
       "      <td>1108.6</td>\n",
       "      <td>766.5</td>\n",
       "      <td>0.69</td>\n",
       "      <td>386.8</td>\n",
       "      <td>313.6</td>\n",
       "      <td>0.81</td>\n",
       "      <td>1495.4</td>\n",
       "      <td>1080.1</td>\n",
       "      <td>0.72</td>\n",
       "    </tr>\n",
       "    <tr>\n",
       "      <th>1</th>\n",
       "      <td>2000</td>\n",
       "      <td>February</td>\n",
       "      <td>1068.4</td>\n",
       "      <td>772.3</td>\n",
       "      <td>0.72</td>\n",
       "      <td>366.8</td>\n",
       "      <td>298.7</td>\n",
       "      <td>0.81</td>\n",
       "      <td>1435.2</td>\n",
       "      <td>1071.1</td>\n",
       "      <td>0.75</td>\n",
       "    </tr>\n",
       "    <tr>\n",
       "      <th>2</th>\n",
       "      <td>2000</td>\n",
       "      <td>March</td>\n",
       "      <td>1174.3</td>\n",
       "      <td>875.5</td>\n",
       "      <td>0.75</td>\n",
       "      <td>399.7</td>\n",
       "      <td>330.1</td>\n",
       "      <td>0.83</td>\n",
       "      <td>1574.0</td>\n",
       "      <td>1205.6</td>\n",
       "      <td>0.77</td>\n",
       "    </tr>\n",
       "    <tr>\n",
       "      <th>3</th>\n",
       "      <td>2000</td>\n",
       "      <td>April</td>\n",
       "      <td>1145.3</td>\n",
       "      <td>841.9</td>\n",
       "      <td>0.74</td>\n",
       "      <td>407.9</td>\n",
       "      <td>336.7</td>\n",
       "      <td>0.83</td>\n",
       "      <td>1553.1</td>\n",
       "      <td>1178.7</td>\n",
       "      <td>0.76</td>\n",
       "    </tr>\n",
       "    <tr>\n",
       "      <th>4</th>\n",
       "      <td>2000</td>\n",
       "      <td>May</td>\n",
       "      <td>1174.2</td>\n",
       "      <td>833.3</td>\n",
       "      <td>0.71</td>\n",
       "      <td>434.4</td>\n",
       "      <td>337.9</td>\n",
       "      <td>0.78</td>\n",
       "      <td>1608.6</td>\n",
       "      <td>1171.2</td>\n",
       "      <td>0.73</td>\n",
       "    </tr>\n",
       "  </tbody>\n",
       "</table>\n",
       "</div>"
      ],
      "text/plain": [
       "   year     month  dom_consumption  dom_cost  dom_cost_per_gallon  \\\n",
       "0  2000   January           1108.6     766.5                 0.69   \n",
       "1  2000  February           1068.4     772.3                 0.72   \n",
       "2  2000     March           1174.3     875.5                 0.75   \n",
       "3  2000     April           1145.3     841.9                 0.74   \n",
       "4  2000       May           1174.2     833.3                 0.71   \n",
       "\n",
       "   int_consumption  int_cost  int_cost_per_gallon  total_consumption  \\\n",
       "0            386.8     313.6                 0.81             1495.4   \n",
       "1            366.8     298.7                 0.81             1435.2   \n",
       "2            399.7     330.1                 0.83             1574.0   \n",
       "3            407.9     336.7                 0.83             1553.1   \n",
       "4            434.4     337.9                 0.78             1608.6   \n",
       "\n",
       "   total_cost  total_cost_per_gallon  \n",
       "0      1080.1                   0.72  \n",
       "1      1071.1                   0.75  \n",
       "2      1205.6                   0.77  \n",
       "3      1178.7                   0.76  \n",
       "4      1171.2                   0.73  "
      ]
     },
     "execution_count": 42,
     "metadata": {},
     "output_type": "execute_result"
    }
   ],
   "source": [
    "airline_fuel = pd.read_csv('data/transportation/airlines/airlines_fuel_clean.csv')\n",
    "airline_fuel.head()"
   ]
  },
  {
   "cell_type": "code",
   "execution_count": 43,
   "metadata": {},
   "outputs": [
    {
     "data": {
      "text/html": [
       "<div>\n",
       "<style scoped>\n",
       "    .dataframe tbody tr th:only-of-type {\n",
       "        vertical-align: middle;\n",
       "    }\n",
       "\n",
       "    .dataframe tbody tr th {\n",
       "        vertical-align: top;\n",
       "    }\n",
       "\n",
       "    .dataframe thead th {\n",
       "        text-align: right;\n",
       "    }\n",
       "</style>\n",
       "<table border=\"1\" class=\"dataframe\">\n",
       "  <thead>\n",
       "    <tr style=\"text-align: right;\">\n",
       "      <th></th>\n",
       "      <th>year</th>\n",
       "      <th>month</th>\n",
       "      <th>dom_consumption</th>\n",
       "      <th>dom_cost</th>\n",
       "      <th>dom_cost_per_gallon</th>\n",
       "      <th>int_consumption</th>\n",
       "      <th>int_cost</th>\n",
       "      <th>int_cost_per_gallon</th>\n",
       "      <th>total_consumption</th>\n",
       "      <th>total_cost</th>\n",
       "      <th>total_cost_per_gallon</th>\n",
       "    </tr>\n",
       "  </thead>\n",
       "  <tbody>\n",
       "    <tr>\n",
       "      <th>245</th>\n",
       "      <td>2020</td>\n",
       "      <td>June</td>\n",
       "      <td>393.5</td>\n",
       "      <td>442.9</td>\n",
       "      <td>1.13</td>\n",
       "      <td>164.4</td>\n",
       "      <td>161.0</td>\n",
       "      <td>0.98</td>\n",
       "      <td>558.0</td>\n",
       "      <td>603.9</td>\n",
       "      <td>1.08</td>\n",
       "    </tr>\n",
       "    <tr>\n",
       "      <th>246</th>\n",
       "      <td>2020</td>\n",
       "      <td>July</td>\n",
       "      <td>565.7</td>\n",
       "      <td>666.1</td>\n",
       "      <td>1.18</td>\n",
       "      <td>197.4</td>\n",
       "      <td>228.8</td>\n",
       "      <td>1.16</td>\n",
       "      <td>763.1</td>\n",
       "      <td>894.8</td>\n",
       "      <td>1.17</td>\n",
       "    </tr>\n",
       "    <tr>\n",
       "      <th>247</th>\n",
       "      <td>2020</td>\n",
       "      <td>August</td>\n",
       "      <td>589.0</td>\n",
       "      <td>713.8</td>\n",
       "      <td>1.21</td>\n",
       "      <td>212.5</td>\n",
       "      <td>254.6</td>\n",
       "      <td>1.20</td>\n",
       "      <td>801.4</td>\n",
       "      <td>968.4</td>\n",
       "      <td>1.21</td>\n",
       "    </tr>\n",
       "    <tr>\n",
       "      <th>248</th>\n",
       "      <td>2020</td>\n",
       "      <td>September</td>\n",
       "      <td>508.4</td>\n",
       "      <td>598.8</td>\n",
       "      <td>1.18</td>\n",
       "      <td>219.4</td>\n",
       "      <td>253.3</td>\n",
       "      <td>1.15</td>\n",
       "      <td>727.8</td>\n",
       "      <td>852.1</td>\n",
       "      <td>1.17</td>\n",
       "    </tr>\n",
       "    <tr>\n",
       "      <th>249</th>\n",
       "      <td>2020</td>\n",
       "      <td>October</td>\n",
       "      <td>568.9</td>\n",
       "      <td>650.5</td>\n",
       "      <td>1.14</td>\n",
       "      <td>238.5</td>\n",
       "      <td>267.0</td>\n",
       "      <td>1.12</td>\n",
       "      <td>807.4</td>\n",
       "      <td>917.5</td>\n",
       "      <td>1.14</td>\n",
       "    </tr>\n",
       "  </tbody>\n",
       "</table>\n",
       "</div>"
      ],
      "text/plain": [
       "     year      month  dom_consumption  dom_cost  dom_cost_per_gallon  \\\n",
       "245  2020       June            393.5     442.9                 1.13   \n",
       "246  2020       July            565.7     666.1                 1.18   \n",
       "247  2020     August            589.0     713.8                 1.21   \n",
       "248  2020  September            508.4     598.8                 1.18   \n",
       "249  2020    October            568.9     650.5                 1.14   \n",
       "\n",
       "     int_consumption  int_cost  int_cost_per_gallon  total_consumption  \\\n",
       "245            164.4     161.0                 0.98              558.0   \n",
       "246            197.4     228.8                 1.16              763.1   \n",
       "247            212.5     254.6                 1.20              801.4   \n",
       "248            219.4     253.3                 1.15              727.8   \n",
       "249            238.5     267.0                 1.12              807.4   \n",
       "\n",
       "     total_cost  total_cost_per_gallon  \n",
       "245       603.9                   1.08  \n",
       "246       894.8                   1.17  \n",
       "247       968.4                   1.21  \n",
       "248       852.1                   1.17  \n",
       "249       917.5                   1.14  "
      ]
     },
     "execution_count": 43,
     "metadata": {},
     "output_type": "execute_result"
    }
   ],
   "source": [
    "airline_fuel.tail()"
   ]
  },
  {
   "cell_type": "markdown",
   "metadata": {},
   "source": [
    "##### Average Airline Fuel Consumption 2000-2020"
   ]
  },
  {
   "cell_type": "code",
   "execution_count": 72,
   "metadata": {},
   "outputs": [
    {
     "data": {
      "text/plain": [
       "year\n",
       "2000    1158.658333\n",
       "2001    1092.666667\n",
       "2002    1023.933333\n",
       "2003    1034.750000\n",
       "2004    1114.991667\n",
       "2005    1107.016667\n",
       "2006    1084.941667\n",
       "2007    1083.250000\n",
       "2008    1039.125000\n",
       "2009     928.966667\n",
       "2010     921.400000\n",
       "2011     902.341667\n",
       "2012     853.175000\n",
       "2013     846.358333\n",
       "2014     857.733333\n",
       "2015     895.116667\n",
       "2016     930.608333\n",
       "2017     945.033333\n",
       "2018     987.333333\n",
       "2019    1015.341667\n",
       "2020     599.200000\n",
       "Name: dom_consumption, dtype: float64"
      ]
     },
     "execution_count": 72,
     "metadata": {},
     "output_type": "execute_result"
    }
   ],
   "source": [
    "airline_fuel.groupby('year')['dom_consumption'].mean()"
   ]
  },
  {
   "cell_type": "markdown",
   "metadata": {},
   "source": [
    "#### --Urban and Rural Miles Traveled"
   ]
  },
  {
   "cell_type": "code",
   "execution_count": 44,
   "metadata": {},
   "outputs": [
    {
     "data": {
      "text/html": [
       "<div>\n",
       "<style scoped>\n",
       "    .dataframe tbody tr th:only-of-type {\n",
       "        vertical-align: middle;\n",
       "    }\n",
       "\n",
       "    .dataframe tbody tr th {\n",
       "        vertical-align: top;\n",
       "    }\n",
       "\n",
       "    .dataframe thead th {\n",
       "        text-align: right;\n",
       "    }\n",
       "</style>\n",
       "<table border=\"1\" class=\"dataframe\">\n",
       "  <thead>\n",
       "    <tr style=\"text-align: right;\">\n",
       "      <th></th>\n",
       "      <th>month</th>\n",
       "      <th>year</th>\n",
       "      <th>system</th>\n",
       "      <th>miles_traveled</th>\n",
       "    </tr>\n",
       "  </thead>\n",
       "  <tbody>\n",
       "    <tr>\n",
       "      <th>0</th>\n",
       "      <td>Jan</td>\n",
       "      <td>2019</td>\n",
       "      <td>Rural Interstate</td>\n",
       "      <td>18693</td>\n",
       "    </tr>\n",
       "    <tr>\n",
       "      <th>1</th>\n",
       "      <td>Feb</td>\n",
       "      <td>2019</td>\n",
       "      <td>Rural Interstate</td>\n",
       "      <td>16849</td>\n",
       "    </tr>\n",
       "    <tr>\n",
       "      <th>2</th>\n",
       "      <td>Mar</td>\n",
       "      <td>2019</td>\n",
       "      <td>Rural Interstate</td>\n",
       "      <td>20917</td>\n",
       "    </tr>\n",
       "    <tr>\n",
       "      <th>3</th>\n",
       "      <td>Q1</td>\n",
       "      <td>2019</td>\n",
       "      <td>Rural Interstate</td>\n",
       "      <td>56460</td>\n",
       "    </tr>\n",
       "    <tr>\n",
       "      <th>4</th>\n",
       "      <td>Jan</td>\n",
       "      <td>2019</td>\n",
       "      <td>Rural Arterial</td>\n",
       "      <td>27596</td>\n",
       "    </tr>\n",
       "  </tbody>\n",
       "</table>\n",
       "</div>"
      ],
      "text/plain": [
       "  month  year            system  miles_traveled\n",
       "0   Jan  2019  Rural Interstate           18693\n",
       "1   Feb  2019  Rural Interstate           16849\n",
       "2   Mar  2019  Rural Interstate           20917\n",
       "3    Q1  2019  Rural Interstate           56460\n",
       "4   Jan  2019    Rural Arterial           27596"
      ]
     },
     "execution_count": 44,
     "metadata": {},
     "output_type": "execute_result"
    }
   ],
   "source": [
    "rural_miles = pd.read_csv('data/transportation/traffic/rural_miles_traveled.csv')\n",
    "rural_miles.head()"
   ]
  },
  {
   "cell_type": "code",
   "execution_count": 45,
   "metadata": {},
   "outputs": [
    {
     "data": {
      "text/html": [
       "<div>\n",
       "<style scoped>\n",
       "    .dataframe tbody tr th:only-of-type {\n",
       "        vertical-align: middle;\n",
       "    }\n",
       "\n",
       "    .dataframe tbody tr th {\n",
       "        vertical-align: top;\n",
       "    }\n",
       "\n",
       "    .dataframe thead th {\n",
       "        text-align: right;\n",
       "    }\n",
       "</style>\n",
       "<table border=\"1\" class=\"dataframe\">\n",
       "  <thead>\n",
       "    <tr style=\"text-align: right;\">\n",
       "      <th></th>\n",
       "      <th>month</th>\n",
       "      <th>year</th>\n",
       "      <th>system</th>\n",
       "      <th>miles_traveled</th>\n",
       "    </tr>\n",
       "  </thead>\n",
       "  <tbody>\n",
       "    <tr>\n",
       "      <th>135</th>\n",
       "      <td>Q3</td>\n",
       "      <td>2020</td>\n",
       "      <td>Total Rural</td>\n",
       "      <td>247522</td>\n",
       "    </tr>\n",
       "    <tr>\n",
       "      <th>136</th>\n",
       "      <td>Jul</td>\n",
       "      <td>2020</td>\n",
       "      <td>All Systems</td>\n",
       "      <td>262461</td>\n",
       "    </tr>\n",
       "    <tr>\n",
       "      <th>137</th>\n",
       "      <td>Aug</td>\n",
       "      <td>2020</td>\n",
       "      <td>All Systems</td>\n",
       "      <td>251183</td>\n",
       "    </tr>\n",
       "    <tr>\n",
       "      <th>138</th>\n",
       "      <td>Sep</td>\n",
       "      <td>2020</td>\n",
       "      <td>All Systems</td>\n",
       "      <td>248277</td>\n",
       "    </tr>\n",
       "    <tr>\n",
       "      <th>139</th>\n",
       "      <td>Q3</td>\n",
       "      <td>2020</td>\n",
       "      <td>All Systems</td>\n",
       "      <td>761922</td>\n",
       "    </tr>\n",
       "  </tbody>\n",
       "</table>\n",
       "</div>"
      ],
      "text/plain": [
       "    month  year       system  miles_traveled\n",
       "135    Q3  2020  Total Rural          247522\n",
       "136   Jul  2020  All Systems          262461\n",
       "137   Aug  2020  All Systems          251183\n",
       "138   Sep  2020  All Systems          248277\n",
       "139    Q3  2020  All Systems          761922"
      ]
     },
     "execution_count": 45,
     "metadata": {},
     "output_type": "execute_result"
    }
   ],
   "source": [
    "rural_miles.tail()"
   ]
  },
  {
   "cell_type": "markdown",
   "metadata": {},
   "source": [
    "##### Average Rural Miles Traveled 2019-2020"
   ]
  },
  {
   "cell_type": "code",
   "execution_count": 74,
   "metadata": {},
   "outputs": [
    {
     "data": {
      "text/plain": [
       "year\n",
       "2019    131140.362500\n",
       "2020    113283.533333\n",
       "Name: miles_traveled, dtype: float64"
      ]
     },
     "execution_count": 74,
     "metadata": {},
     "output_type": "execute_result"
    }
   ],
   "source": [
    "rural_miles.groupby('year')['miles_traveled'].mean()"
   ]
  },
  {
   "cell_type": "code",
   "execution_count": 75,
   "metadata": {},
   "outputs": [
    {
     "data": {
      "text/html": [
       "<div>\n",
       "<style scoped>\n",
       "    .dataframe tbody tr th:only-of-type {\n",
       "        vertical-align: middle;\n",
       "    }\n",
       "\n",
       "    .dataframe tbody tr th {\n",
       "        vertical-align: top;\n",
       "    }\n",
       "\n",
       "    .dataframe thead th {\n",
       "        text-align: right;\n",
       "    }\n",
       "</style>\n",
       "<table border=\"1\" class=\"dataframe\">\n",
       "  <thead>\n",
       "    <tr style=\"text-align: right;\">\n",
       "      <th></th>\n",
       "      <th>month</th>\n",
       "      <th>year</th>\n",
       "      <th>system</th>\n",
       "      <th>miles_traveled</th>\n",
       "    </tr>\n",
       "  </thead>\n",
       "  <tbody>\n",
       "    <tr>\n",
       "      <th>0</th>\n",
       "      <td>Jan</td>\n",
       "      <td>2019</td>\n",
       "      <td>Urban Interstate</td>\n",
       "      <td>43946</td>\n",
       "    </tr>\n",
       "    <tr>\n",
       "      <th>1</th>\n",
       "      <td>Feb</td>\n",
       "      <td>2019</td>\n",
       "      <td>Urban Interstate</td>\n",
       "      <td>39812</td>\n",
       "    </tr>\n",
       "    <tr>\n",
       "      <th>2</th>\n",
       "      <td>Mar</td>\n",
       "      <td>2019</td>\n",
       "      <td>Urban Interstate</td>\n",
       "      <td>48101</td>\n",
       "    </tr>\n",
       "    <tr>\n",
       "      <th>3</th>\n",
       "      <td>Q1</td>\n",
       "      <td>2019</td>\n",
       "      <td>Urban Interstate</td>\n",
       "      <td>131859</td>\n",
       "    </tr>\n",
       "    <tr>\n",
       "      <th>4</th>\n",
       "      <td>Jan</td>\n",
       "      <td>2019</td>\n",
       "      <td>Urban Arterial</td>\n",
       "      <td>90386</td>\n",
       "    </tr>\n",
       "  </tbody>\n",
       "</table>\n",
       "</div>"
      ],
      "text/plain": [
       "  month  year            system  miles_traveled\n",
       "0   Jan  2019  Urban Interstate           43946\n",
       "1   Feb  2019  Urban Interstate           39812\n",
       "2   Mar  2019  Urban Interstate           48101\n",
       "3    Q1  2019  Urban Interstate          131859\n",
       "4   Jan  2019    Urban Arterial           90386"
      ]
     },
     "execution_count": 75,
     "metadata": {},
     "output_type": "execute_result"
    }
   ],
   "source": [
    "urban_miles = pd.read_csv('data/transportation/traffic/urban_miles_traveled.csv')\n",
    "urban_miles.head()"
   ]
  },
  {
   "cell_type": "code",
   "execution_count": 76,
   "metadata": {},
   "outputs": [
    {
     "data": {
      "text/html": [
       "<div>\n",
       "<style scoped>\n",
       "    .dataframe tbody tr th:only-of-type {\n",
       "        vertical-align: middle;\n",
       "    }\n",
       "\n",
       "    .dataframe tbody tr th {\n",
       "        vertical-align: top;\n",
       "    }\n",
       "\n",
       "    .dataframe thead th {\n",
       "        text-align: right;\n",
       "    }\n",
       "</style>\n",
       "<table border=\"1\" class=\"dataframe\">\n",
       "  <thead>\n",
       "    <tr style=\"text-align: right;\">\n",
       "      <th></th>\n",
       "      <th>month</th>\n",
       "      <th>year</th>\n",
       "      <th>system</th>\n",
       "      <th>miles_traveled</th>\n",
       "    </tr>\n",
       "  </thead>\n",
       "  <tbody>\n",
       "    <tr>\n",
       "      <th>135</th>\n",
       "      <td>Q3</td>\n",
       "      <td>2020</td>\n",
       "      <td>Total Urban</td>\n",
       "      <td>514400</td>\n",
       "    </tr>\n",
       "    <tr>\n",
       "      <th>136</th>\n",
       "      <td>Jul</td>\n",
       "      <td>2020</td>\n",
       "      <td>All Systems</td>\n",
       "      <td>262461</td>\n",
       "    </tr>\n",
       "    <tr>\n",
       "      <th>137</th>\n",
       "      <td>Aug</td>\n",
       "      <td>2020</td>\n",
       "      <td>All Systems</td>\n",
       "      <td>251183</td>\n",
       "    </tr>\n",
       "    <tr>\n",
       "      <th>138</th>\n",
       "      <td>Sep</td>\n",
       "      <td>2020</td>\n",
       "      <td>All Systems</td>\n",
       "      <td>248277</td>\n",
       "    </tr>\n",
       "    <tr>\n",
       "      <th>139</th>\n",
       "      <td>Q3</td>\n",
       "      <td>2020</td>\n",
       "      <td>All Systems</td>\n",
       "      <td>761922</td>\n",
       "    </tr>\n",
       "  </tbody>\n",
       "</table>\n",
       "</div>"
      ],
      "text/plain": [
       "    month  year       system  miles_traveled\n",
       "135    Q3  2020  Total Urban          514400\n",
       "136   Jul  2020  All Systems          262461\n",
       "137   Aug  2020  All Systems          251183\n",
       "138   Sep  2020  All Systems          248277\n",
       "139    Q3  2020  All Systems          761922"
      ]
     },
     "execution_count": 76,
     "metadata": {},
     "output_type": "execute_result"
    }
   ],
   "source": [
    "urban_miles.tail()"
   ]
  },
  {
   "cell_type": "markdown",
   "metadata": {},
   "source": [
    "##### Average Urban Miles Traveled 2019-2020"
   ]
  },
  {
   "cell_type": "code",
   "execution_count": 78,
   "metadata": {},
   "outputs": [
    {
     "data": {
      "text/plain": [
       "year\n",
       "2019    195571.300000\n",
       "2020    165792.566667\n",
       "Name: miles_traveled, dtype: float64"
      ]
     },
     "execution_count": 78,
     "metadata": {},
     "output_type": "execute_result"
    }
   ],
   "source": [
    "urban_miles.groupby('year')['miles_traveled'].mean()"
   ]
  },
  {
   "cell_type": "markdown",
   "metadata": {},
   "source": [
    "## 3. Reading in 'Manufacturing Trends' Data"
   ]
  },
  {
   "cell_type": "code",
   "execution_count": 48,
   "metadata": {},
   "outputs": [
    {
     "data": {
      "text/html": [
       "<div>\n",
       "<style scoped>\n",
       "    .dataframe tbody tr th:only-of-type {\n",
       "        vertical-align: middle;\n",
       "    }\n",
       "\n",
       "    .dataframe tbody tr th {\n",
       "        vertical-align: top;\n",
       "    }\n",
       "\n",
       "    .dataframe thead th {\n",
       "        text-align: right;\n",
       "    }\n",
       "</style>\n",
       "<table border=\"1\" class=\"dataframe\">\n",
       "  <thead>\n",
       "    <tr style=\"text-align: right;\">\n",
       "      <th></th>\n",
       "      <th>Industry</th>\n",
       "      <th>Type</th>\n",
       "      <th>Value</th>\n",
       "      <th>Year</th>\n",
       "    </tr>\n",
       "  </thead>\n",
       "  <tbody>\n",
       "    <tr>\n",
       "      <th>0</th>\n",
       "      <td>All manufacturing industries</td>\n",
       "      <td>Shipments</td>\n",
       "      <td>4702406</td>\n",
       "      <td>2020</td>\n",
       "    </tr>\n",
       "    <tr>\n",
       "      <th>1</th>\n",
       "      <td>Construction materials and supplies</td>\n",
       "      <td>Shipments</td>\n",
       "      <td>521154</td>\n",
       "      <td>2020</td>\n",
       "    </tr>\n",
       "    <tr>\n",
       "      <th>2</th>\n",
       "      <td>Information technology</td>\n",
       "      <td>Shipments</td>\n",
       "      <td>242603</td>\n",
       "      <td>2020</td>\n",
       "    </tr>\n",
       "    <tr>\n",
       "      <th>3</th>\n",
       "      <td>Computers and related products</td>\n",
       "      <td>Shipments</td>\n",
       "      <td>17633</td>\n",
       "      <td>2020</td>\n",
       "    </tr>\n",
       "    <tr>\n",
       "      <th>4</th>\n",
       "      <td>Motor vehicle and parts</td>\n",
       "      <td>Shipments</td>\n",
       "      <td>522425</td>\n",
       "      <td>2020</td>\n",
       "    </tr>\n",
       "  </tbody>\n",
       "</table>\n",
       "</div>"
      ],
      "text/plain": [
       "                              Industry       Type    Value  Year\n",
       "0         All manufacturing industries  Shipments  4702406  2020\n",
       "1  Construction materials and supplies  Shipments   521154  2020\n",
       "2               Information technology  Shipments   242603  2020\n",
       "3       Computers and related products  Shipments    17633  2020\n",
       "4              Motor vehicle and parts  Shipments   522425  2020"
      ]
     },
     "execution_count": 48,
     "metadata": {},
     "output_type": "execute_result"
    }
   ],
   "source": [
    "shipments_orders = pd.read_csv('data/manufacturing/manufacturing_trends.csv')\n",
    "shipments_orders.head()"
   ]
  },
  {
   "cell_type": "code",
   "execution_count": 49,
   "metadata": {},
   "outputs": [
    {
     "data": {
      "text/html": [
       "<div>\n",
       "<style scoped>\n",
       "    .dataframe tbody tr th:only-of-type {\n",
       "        vertical-align: middle;\n",
       "    }\n",
       "\n",
       "    .dataframe tbody tr th {\n",
       "        vertical-align: top;\n",
       "    }\n",
       "\n",
       "    .dataframe thead th {\n",
       "        text-align: right;\n",
       "    }\n",
       "</style>\n",
       "<table border=\"1\" class=\"dataframe\">\n",
       "  <thead>\n",
       "    <tr style=\"text-align: right;\">\n",
       "      <th></th>\n",
       "      <th>Industry</th>\n",
       "      <th>Type</th>\n",
       "      <th>Value</th>\n",
       "      <th>Year</th>\n",
       "    </tr>\n",
       "  </thead>\n",
       "  <tbody>\n",
       "    <tr>\n",
       "      <th>43</th>\n",
       "      <td>Excluding aircraft</td>\n",
       "      <td>New Orders</td>\n",
       "      <td>661265</td>\n",
       "      <td>2019</td>\n",
       "    </tr>\n",
       "    <tr>\n",
       "      <th>44</th>\n",
       "      <td>Defense capital goods</td>\n",
       "      <td>New Orders</td>\n",
       "      <td>121808</td>\n",
       "      <td>2019</td>\n",
       "    </tr>\n",
       "    <tr>\n",
       "      <th>45</th>\n",
       "      <td>Consumer goods</td>\n",
       "      <td>New Orders</td>\n",
       "      <td>2126392</td>\n",
       "      <td>2019</td>\n",
       "    </tr>\n",
       "    <tr>\n",
       "      <th>46</th>\n",
       "      <td>Consumer durable goods</td>\n",
       "      <td>New Orders</td>\n",
       "      <td>431807</td>\n",
       "      <td>2019</td>\n",
       "    </tr>\n",
       "    <tr>\n",
       "      <th>47</th>\n",
       "      <td>Consumer nondurable goods</td>\n",
       "      <td>New Orders</td>\n",
       "      <td>1694585</td>\n",
       "      <td>2019</td>\n",
       "    </tr>\n",
       "  </tbody>\n",
       "</table>\n",
       "</div>"
      ],
      "text/plain": [
       "                     Industry        Type    Value  Year\n",
       "43         Excluding aircraft  New Orders   661265  2019\n",
       "44      Defense capital goods  New Orders   121808  2019\n",
       "45             Consumer goods  New Orders  2126392  2019\n",
       "46     Consumer durable goods  New Orders   431807  2019\n",
       "47  Consumer nondurable goods  New Orders  1694585  2019"
      ]
     },
     "execution_count": 49,
     "metadata": {},
     "output_type": "execute_result"
    }
   ],
   "source": [
    "shipments_orders.tail()"
   ]
  },
  {
   "cell_type": "code",
   "execution_count": null,
   "metadata": {},
   "outputs": [],
   "source": [
    "##### Average New Orders and Shipments 2019-2020"
   ]
  },
  {
   "cell_type": "code",
   "execution_count": 79,
   "metadata": {},
   "outputs": [
    {
     "data": {
      "text/plain": [
       "Year\n",
       "2019    1.082861e+06\n",
       "2020    9.990233e+05\n",
       "Name: Value, dtype: float64"
      ]
     },
     "execution_count": 79,
     "metadata": {},
     "output_type": "execute_result"
    }
   ],
   "source": [
    "shipments_orders.groupby('Year')['Value'].mean()"
   ]
  },
  {
   "cell_type": "code",
   "execution_count": null,
   "metadata": {},
   "outputs": [],
   "source": []
  }
 ],
 "metadata": {
  "kernelspec": {
   "display_name": "Python 3",
   "language": "python",
   "name": "python3"
  },
  "language_info": {
   "codemirror_mode": {
    "name": "ipython",
    "version": 3
   },
   "file_extension": ".py",
   "mimetype": "text/x-python",
   "name": "python",
   "nbconvert_exporter": "python",
   "pygments_lexer": "ipython3",
   "version": "3.8.3"
  }
 },
 "nbformat": 4,
 "nbformat_minor": 4
}
